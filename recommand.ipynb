{
 "cells": [
  {
   "metadata": {},
   "cell_type": "markdown",
   "source": "# 使用者相似度去推薦食譜",
   "id": "5cfa0661d5440162"
  },
  {
   "metadata": {
    "ExecuteTime": {
     "end_time": "2024-05-02T14:43:44.708399Z",
     "start_time": "2024-05-02T14:43:44.706436Z"
    }
   },
   "cell_type": "code",
   "source": [
    "import numpy as np\n",
    "import math"
   ],
   "id": "22536fe7d3fc1041",
   "outputs": [],
   "execution_count": 16
  },
  {
   "metadata": {},
   "cell_type": "markdown",
   "source": "",
   "id": "de0987402dd2af86"
  },
  {
   "metadata": {},
   "cell_type": "markdown",
   "source": [
    "# 使用者資料 （隨便生成的）\n",
    "**資料格式** : (對第一份食譜的評價, 對第二份食譜的評價, 對第三份食譜的評價, 對第四份食譜的評價, 對第五份食譜的評價) \n",
    "\n",
    "說明: 滿星五顆，最低一顆 nan代表使用者沒有評分 主食材暫定權重為2~2.5 副食材暫定權重為1~1.5 佐料暫定權重為 < 0.5\n"
   ],
   "id": "82b4cecf0fb9e8db"
  },
  {
   "metadata": {
    "ExecuteTime": {
     "end_time": "2024-05-02T14:43:44.770057Z",
     "start_time": "2024-05-02T14:43:44.765786Z"
    }
   },
   "cell_type": "code",
   "source": [
    "user_love_list = [\n",
    "    (3,2,1,2,3),\n",
    "    (1,1,1,1,1), # 極端資料\n",
    "    (3,2,3,math.nan,2),\n",
    "    (3,2,3,2,1),\n",
    "    (1,math.nan,1,1,5),\n",
    "    (1,2,1,1,1),\n",
    "    (3,2,2,2,1),\n",
    "    (1,1,1,1,2)\n",
    "]\n",
    "\n",
    "# comment this\n",
    "user_love_list +=[\n",
    "    (3,2,3,3,2), #\n",
    "    (3,2,3,5,2),\n",
    "    (3,2,3,4,2),\n",
    "    (3,2,3,3,2),\n",
    "    (3,2,3,3,2)\n",
    "]\n",
    "\n",
    "\n",
    "\n",
    "recipe_ingr=[\n",
    "    (0.0,2.1,0.0,2.0,1.0,0.5), ##\n",
    "    (1.0,2.2,0.0,0.0,1.0,0.3),\n",
    "    (0.0,2.1,2.2,2.0,1.0,0.1), ##\n",
    "    (0.0,2.3,0.0,0.0,1.0,0.5), ##\n",
    "    (0.0,0.0,0.0,2.0,1.0,0.5)\n",
    "]"
   ],
   "id": "df9252964cc26ed8",
   "outputs": [],
   "execution_count": 17
  },
  {
   "metadata": {
    "ExecuteTime": {
     "end_time": "2024-05-02T14:43:44.784210Z",
     "start_time": "2024-05-02T14:43:44.778858Z"
    }
   },
   "cell_type": "code",
   "source": [
    "# 標準化所有資料\n",
    "\n",
    "std_user_love = []\n",
    "\n",
    "for arr in user_love_list:\n",
    "    arr = (arr - np.nanmean(arr)) / np.nanstd(arr)\n",
    "    std_user_love.append(arr)\n",
    "\n",
    "std_user_love_np = np.array(std_user_love)\n",
    "std_user_love_np"
   ],
   "id": "8f3c9ff27d01b6ef",
   "outputs": [
    {
     "name": "stderr",
     "output_type": "stream",
     "text": [
      "/var/folders/b8/4_1zgdyd5p98vtr649zl136c0000gn/T/ipykernel_17569/3331034335.py:6: RuntimeWarning: invalid value encountered in divide\n",
      "  arr = (arr - np.nanmean(arr)) / np.nanstd(arr)\n"
     ]
    },
    {
     "data": {
      "text/plain": [
       "array([[ 1.06904497, -0.26726124, -1.60356745, -0.26726124,  1.06904497],\n",
       "       [        nan,         nan,         nan,         nan,         nan],\n",
       "       [ 1.        , -1.        ,  1.        ,         nan, -1.        ],\n",
       "       [ 1.06904497, -0.26726124,  1.06904497, -0.26726124, -1.60356745],\n",
       "       [-0.57735027,         nan, -0.57735027, -0.57735027,  1.73205081],\n",
       "       [-0.5       ,  2.        , -0.5       , -0.5       , -0.5       ],\n",
       "       [ 1.58113883,  0.        ,  0.        ,  0.        , -1.58113883],\n",
       "       [-0.5       , -0.5       , -0.5       , -0.5       ,  2.        ],\n",
       "       [ 0.81649658, -1.22474487,  0.81649658,  0.81649658, -1.22474487],\n",
       "       [ 0.        , -0.91287093,  0.        ,  1.82574186, -0.91287093],\n",
       "       [ 0.26726124, -1.06904497,  0.26726124,  1.60356745, -1.06904497],\n",
       "       [ 0.81649658, -1.22474487,  0.81649658,  0.81649658, -1.22474487],\n",
       "       [ 0.81649658, -1.22474487,  0.81649658,  0.81649658, -1.22474487]])"
      ]
     },
     "execution_count": 18,
     "metadata": {},
     "output_type": "execute_result"
    }
   ],
   "execution_count": 18
  },
  {
   "metadata": {},
   "cell_type": "markdown",
   "source": [
    "# 相似度計算\n",
    "![](./img.png)\n",
    "\n",
    "根據論文 可以使用上面的公式，另外再加上一個閥值來過濾相似度，另外也可以做top-k的過濾"
   ],
   "id": "4b62893d67f6bf76"
  },
  {
   "metadata": {
    "ExecuteTime": {
     "end_time": "2024-05-02T14:43:44.791608Z",
     "start_time": "2024-05-02T14:43:44.789500Z"
    }
   },
   "cell_type": "code",
   "source": "threshold = 0.7",
   "id": "27baf47b7a1ef64",
   "outputs": [],
   "execution_count": 19
  },
  {
   "metadata": {
    "ExecuteTime": {
     "end_time": "2024-05-02T14:43:44.817194Z",
     "start_time": "2024-05-02T14:43:44.811636Z"
    }
   },
   "cell_type": "code",
   "source": [
    "# 計算使用者相似度\n",
    "similar_np = []\n",
    "target = std_user_love_np[2]\n",
    "for arr in std_user_love_np:\n",
    "    child = 0\n",
    "    mom1 = 0\n",
    "    mom2 = 0\n",
    "    for i in range(len(arr)):\n",
    "        temp = (arr[i]*target[i])\n",
    "        if not math.isnan(temp):\n",
    "            child += temp\n",
    "        else:\n",
    "            continue\n",
    "        mom1 += arr[i]*arr[i]\n",
    "        mom2 += target[i]*target[i]\n",
    "\n",
    "    similar_np.append(child / (np.sqrt(mom1) * np.sqrt(mom2)))\n",
    "\n",
    "similar_np"
   ],
   "id": "b30ff674f2deed68",
   "outputs": [
    {
     "name": "stderr",
     "output_type": "stream",
     "text": [
      "/var/folders/b8/4_1zgdyd5p98vtr649zl136c0000gn/T/ipykernel_17569/3996714476.py:17: RuntimeWarning: invalid value encountered in double_scalars\n",
      "  similar_np.append(child / (np.sqrt(mom1) * np.sqrt(mom2)))\n"
     ]
    },
    {
     "data": {
      "text/plain": [
       "[-0.30096463271442303,\n",
       " nan,\n",
       " 1.0,\n",
       " 0.9028938981432689,\n",
       " -0.8703882797784893,\n",
       " -0.5735393346764043,\n",
       " 0.7071067811865476,\n",
       " -0.5735393346764044,\n",
       " 0.9805806756909201,\n",
       " 0.7071067811865476,\n",
       " 0.8574929257125442,\n",
       " 0.9805806756909201,\n",
       " 0.9805806756909201]"
      ]
     },
     "execution_count": 20,
     "metadata": {},
     "output_type": "execute_result"
    }
   ],
   "execution_count": 20
  },
  {
   "metadata": {},
   "cell_type": "markdown",
   "source": "# 把相似度高的相關使用者挑出來 再根據權重做標準化 得出預測的結果",
   "id": "98d3a4cd9aea08a3"
  },
  {
   "metadata": {
    "ExecuteTime": {
     "end_time": "2024-05-02T14:43:44.824849Z",
     "start_time": "2024-05-02T14:43:44.818576Z"
    }
   },
   "cell_type": "code",
   "source": [
    "predict_np = target\n",
    "predict_np[np.isnan(predict_np)] = np.nanmean(predict_np) # 取代nan變成平均值 讓nan不會影響這個vector\n",
    "count = 0;\n",
    "for i in range(len(similar_np)):\n",
    "    if i == 2: # 自己不用計算\n",
    "        continue\n",
    "    if similar_np[i] > threshold: \n",
    "        predict_np += std_user_love_np[i] * similar_np[i]\n",
    "        count+=similar_np[i]\n",
    "        \n",
    "target"
   ],
   "id": "750e38ff9d8282b4",
   "outputs": [
    {
     "data": {
      "text/plain": [
       "array([ 5.7143651 , -6.40638773,  4.59633111,  4.82665596, -8.73096444])"
      ]
     },
     "execution_count": 21,
     "metadata": {},
     "output_type": "execute_result"
    }
   ],
   "execution_count": 21
  },
  {
   "metadata": {},
   "cell_type": "markdown",
   "source": [
    "# 對食譜的評價預測\n",
    "(再次標準化)"
   ],
   "id": "d2a039fe73a19004"
  },
  {
   "metadata": {
    "ExecuteTime": {
     "end_time": "2024-05-02T14:44:44.369921Z",
     "start_time": "2024-05-02T14:44:44.365780Z"
    }
   },
   "cell_type": "code",
   "source": [
    "# predict_np = (predict_np - predict_np.mean()) / predict_np.std()\n",
    "predict_np"
   ],
   "id": "3dbe16ab544369d0",
   "outputs": [
    {
     "data": {
      "text/plain": [
       "array([ 0.91656343, -1.02756135,  0.73723483,  0.7741781 , -1.40041502])"
      ]
     },
     "execution_count": 29,
     "metadata": {},
     "output_type": "execute_result"
    }
   ],
   "execution_count": 29
  },
  {
   "metadata": {},
   "cell_type": "markdown",
   "source": [
    "# 我們可以從上面的數據得知使用者可能對這些食譜的喜歡以及厭惡程度\n",
    "把他帶入食材的部分\n"
   ],
   "id": "2d9892e35f7a0790"
  },
  {
   "metadata": {
    "ExecuteTime": {
     "end_time": "2024-05-02T14:43:44.847161Z",
     "start_time": "2024-05-02T14:43:44.844060Z"
    }
   },
   "cell_type": "code",
   "source": [
    "recipe_ingr_np = np.array(recipe_ingr)\n",
    "\n",
    "recipe_ingr_np"
   ],
   "id": "322fa7d9cfc7f0cd",
   "outputs": [
    {
     "data": {
      "text/plain": [
       "array([[0. , 2.1, 0. , 2. , 1. , 0.5],\n",
       "       [1. , 2.2, 0. , 0. , 1. , 0.3],\n",
       "       [0. , 2.1, 2.2, 2. , 1. , 0.1],\n",
       "       [0. , 2.3, 0. , 0. , 1. , 0.5],\n",
       "       [0. , 0. , 0. , 2. , 1. , 0.5]])"
      ]
     },
     "execution_count": 23,
     "metadata": {},
     "output_type": "execute_result"
    }
   ],
   "execution_count": 23
  },
  {
   "metadata": {
    "ExecuteTime": {
     "end_time": "2024-05-02T14:43:44.881575Z",
     "start_time": "2024-05-02T14:43:44.877604Z"
    }
   },
   "cell_type": "code",
   "source": [
    "i_love = np.zeros(len(recipe_ingr[0]),dtype=np.float64)\n",
    "for i in range(len(predict_np)):\n",
    "    i_love += recipe_ingr_np[i] * predict_np[i]\n",
    "\n",
    "i_love"
   ],
   "id": "bdd2b5b4c474b2b3",
   "outputs": [
    {
     "data": {
      "text/plain": [
       "array([-1.02756135,  2.99295102,  1.62191663,  0.50676649,  0.        ,\n",
       "       -0.08938166])"
      ]
     },
     "execution_count": 24,
     "metadata": {},
     "output_type": "execute_result"
    }
   ],
   "execution_count": 24
  },
  {
   "metadata": {},
   "cell_type": "markdown",
   "source": "",
   "id": "afef2c72bccf022d"
  },
  {
   "metadata": {
    "ExecuteTime": {
     "end_time": "2024-05-02T14:43:44.892990Z",
     "start_time": "2024-05-02T14:43:44.889450Z"
    }
   },
   "cell_type": "code",
   "source": "np.matmul(i_love,recipe_ingr_np.T)",
   "id": "38d05155f5e48463",
   "outputs": [
    {
     "data": {
      "text/plain": [
       "array([ 7.25403929,  5.53011641, 10.85800855,  6.83909652,  0.96884215])"
      ]
     },
     "execution_count": 25,
     "metadata": {},
     "output_type": "execute_result"
    }
   ],
   "execution_count": 25
  },
  {
   "metadata": {},
   "cell_type": "markdown",
   "source": "---",
   "id": "ec061c6cdf9d97bc"
  },
  {
   "metadata": {},
   "cell_type": "markdown",
   "source": [
    "# 沒標準化\n",
    "\n",
    "## 沒有標準化的用戶評分是沒辦法看出這個用戶對食譜的喜愛程度的\n",
    "可以從下方的數據看出來 很明顯數字出來是不能用的"
   ],
   "id": "f3be56967aca1dc7"
  },
  {
   "metadata": {
    "ExecuteTime": {
     "end_time": "2024-05-02T14:43:44.899073Z",
     "start_time": "2024-05-02T14:43:44.894415Z"
    }
   },
   "cell_type": "code",
   "source": [
    "user_love_np = np.array(user_love_list)\n",
    "\n",
    "similar_np = []\n",
    "target = user_love_np[2]\n",
    "for arr in user_love_np:\n",
    "    child = 0\n",
    "    mom1 = 0\n",
    "    mom2 = 0\n",
    "    for i in range(len(arr)):\n",
    "        temp = (arr[i]*target[i])\n",
    "        if not math.isnan(temp):   \n",
    "            child += temp\n",
    "        else:\n",
    "            continue\n",
    "        mom1 += arr[i]*arr[i]\n",
    "        mom2 += target[i]*target[i]\n",
    "\n",
    "    similar_np.append(child / (np.sqrt(mom1) * np.sqrt(mom2)))\n",
    "\n",
    "similar_np"
   ],
   "id": "c3732bd6d0e336d5",
   "outputs": [
    {
     "data": {
      "text/plain": [
       "[0.8996469021204839,\n",
       " 0.9805806756909202,\n",
       " 1.0000000000000002,\n",
       " 0.981432984131437,\n",
       " 0.6564879518897745,\n",
       " 0.8894991799933214,\n",
       " 0.9707253433941511,\n",
       " 0.8894991799933214,\n",
       " 1.0000000000000002,\n",
       " 1.0000000000000002,\n",
       " 1.0000000000000002,\n",
       " 1.0000000000000002,\n",
       " 1.0000000000000002]"
      ]
     },
     "execution_count": 26,
     "metadata": {},
     "output_type": "execute_result"
    }
   ],
   "execution_count": 26
  },
  {
   "metadata": {},
   "cell_type": "markdown",
   "source": [
    "# 可以發現第一筆與第二筆的資料的相似度很高 \n",
    "# 這是因為每個人的評分標準不一樣 \n",
    "# 如果沒有標準化只會讓數據失準\n",
    "(下方為第一筆與第三筆資料的差別)\n"
   ],
   "id": "349cae804eb70c7d"
  },
  {
   "metadata": {
    "ExecuteTime": {
     "end_time": "2024-05-02T14:43:44.909528Z",
     "start_time": "2024-05-02T14:43:44.906715Z"
    }
   },
   "cell_type": "code",
   "source": "user_love_list[1]",
   "id": "947c1700fcb9c7a3",
   "outputs": [
    {
     "data": {
      "text/plain": [
       "(1, 1, 1, 1, 1)"
      ]
     },
     "execution_count": 27,
     "metadata": {},
     "output_type": "execute_result"
    }
   ],
   "execution_count": 27
  },
  {
   "metadata": {
    "ExecuteTime": {
     "end_time": "2024-05-02T14:43:44.943242Z",
     "start_time": "2024-05-02T14:43:44.940666Z"
    }
   },
   "cell_type": "code",
   "source": "user_love_list[2]",
   "id": "6c1e99527b6d46bc",
   "outputs": [
    {
     "data": {
      "text/plain": [
       "(3, 2, 3, nan, 2)"
      ]
     },
     "execution_count": 28,
     "metadata": {},
     "output_type": "execute_result"
    }
   ],
   "execution_count": 28
  },
  {
   "metadata": {
    "ExecuteTime": {
     "end_time": "2024-05-02T14:43:44.955127Z",
     "start_time": "2024-05-02T14:43:44.952807Z"
    }
   },
   "cell_type": "code",
   "source": "",
   "id": "808f46ae42f9e2ce",
   "outputs": [],
   "execution_count": 28
  }
 ],
 "metadata": {
  "kernelspec": {
   "display_name": "Python 3",
   "language": "python",
   "name": "python3"
  },
  "language_info": {
   "codemirror_mode": {
    "name": "ipython",
    "version": 2
   },
   "file_extension": ".py",
   "mimetype": "text/x-python",
   "name": "python",
   "nbconvert_exporter": "python",
   "pygments_lexer": "ipython2",
   "version": "2.7.6"
  }
 },
 "nbformat": 4,
 "nbformat_minor": 5
}
